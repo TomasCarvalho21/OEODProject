{
 "cells": [
  {
   "cell_type": "markdown",
   "metadata": {},
   "source": [
    "<font size=\"5\">\n",
    " <div class=\"alert alert-block alert-info\"><b>Master in Data Science - Iscte <b>\n",
    "     </div>\n",
    "</font>   \n",
    "    \n",
    "<font size=\"5\"> OEOD </font>\n",
    "\n",
    "\n",
    "<font size=\"3\"> Afonso Fareleiro, Armando Ferreira, Tomás Carvalho </font>\n",
    "  \n",
    "<font size=\"3\"> Group 12 - ticker ’MU’ </font> \n",
    "\n",
    "# RL for algorithmic trading"
   ]
  },
  {
   "cell_type": "code",
   "execution_count": null,
   "metadata": {
    "ExecuteTime": {
     "end_time": "2023-10-17T15:17:06.601329Z",
     "start_time": "2023-10-17T15:17:06.580334Z"
    }
   },
   "outputs": [],
   "source": [
    "# import libraries\n",
    "\n",
    "import yfinance as yf  # import data from web (financial time series)\n",
    "import numpy as np\n",
    "import pandas as pd\n",
    "import matplotlib.pyplot as plt  ## interactive data visualization\n",
    "\n",
    "# high-quality figures\n",
    "%config InlineBackend.figure_format = 'svg'"
   ]
  },
  {
   "cell_type": "markdown",
   "metadata": {},
   "source": [
    "## 1. Obtain/Extract the historical stock prices"
   ]
  },
  {
   "cell_type": "code",
   "execution_count": 47,
   "metadata": {
    "ExecuteTime": {
     "end_time": "2023-10-17T15:17:09.400952Z",
     "start_time": "2023-10-17T15:17:09.004471Z"
    },
    "id": "RoGIxEXZKjlF"
   },
   "outputs": [
    {
     "name": "stdout",
     "output_type": "stream",
     "text": [
      "<class 'pandas.core.frame.DataFrame'>\n",
      "DatetimeIndex: 1195 entries, 2019-01-02 00:00:00-05:00 to 2023-09-29 00:00:00-04:00\n",
      "Data columns (total 7 columns):\n",
      " #   Column        Non-Null Count  Dtype  \n",
      "---  ------        --------------  -----  \n",
      " 0   Open          1195 non-null   float64\n",
      " 1   High          1195 non-null   float64\n",
      " 2   Low           1195 non-null   float64\n",
      " 3   Close         1195 non-null   float64\n",
      " 4   Volume        1195 non-null   int64  \n",
      " 5   Dividends     1195 non-null   float64\n",
      " 6   Stock Splits  1195 non-null   float64\n",
      "dtypes: float64(6), int64(1)\n",
      "memory usage: 74.7 KB\n"
     ]
    }
   ],
   "source": [
    "# Historical stock price data for MU , from the period 2019 to 2023\n",
    "## 'MU - Micron Micron Technology, Inc' is an US based semiconductor company\n",
    "\n",
    "mu = yf.Ticker(\"MU\")\n",
    "data = mu.history(start=\"2019-01-01\", end=\"2023-09-30\")\n",
    "\n",
    "data.info()"
   ]
  },
  {
   "cell_type": "code",
   "execution_count": null,
   "metadata": {},
   "outputs": [],
   "source": [
    "# Daily close price data for MU\n",
    "data.Close.plot()"
   ]
  },
  {
   "cell_type": "markdown",
   "metadata": {},
   "source": [
    "## 2. Calculate the returns, expected mean returns, and the risk."
   ]
  },
  {
   "cell_type": "code",
   "execution_count": 88,
   "metadata": {},
   "outputs": [
    {
     "data": {
      "text/plain": [
       "MU    0.019496\n",
       "dtype: float64"
      ]
     },
     "execution_count": 88,
     "metadata": {},
     "output_type": "execute_result"
    }
   ],
   "source": [
    "# Asset Returns/Rate of Returns: the cumulative daily rate of return is useful to determine /\n",
    "#                                   the value of an investment at regular intervals.\n",
    "data_close = data[['Close']]\n",
    "data_close.columns = ['MU']\n",
    "\n",
    "returns = np.log(data_close / data_close.shift(1))\n",
    "returns = returns.dropna()\n",
    "\n",
    "# Asset Expected Mean Returns\n",
    "mean_returns = returns.mean()\n",
    "\n",
    "# Volatility: market volatility is defined as the standard deviation of prices/returns.\n",
    "vol = returns.std()\n",
    "\n",
    "# Gain-Loss Ratio (GLR) represents the relative relationship of trades with a positive /\n",
    "#                                       return and trades with a negative return\n",
    "glr = returns[returns['MU'] > 0].sum() / returns[returns['MU'] < 0].sum().abs()\n",
    "\n",
    "# Sharpe Ratio (SR) is the amount of excess return over the risk-free rate as the relevant measure of risk.\n",
    "## rf is daily risk free rate.\n",
    "rf = (1.02 ** (1 / 360)) - 1\n",
    "sr = (mean_returns - rf) / vol\n",
    "sr"
   ]
  },
  {
   "cell_type": "markdown",
   "metadata": {},
   "source": [
    "## 3. Define statistical trading strategy (at least one, maximum 2)."
   ]
  },
  {
   "cell_type": "code",
   "execution_count": null,
   "metadata": {},
   "outputs": [],
   "source": [
    "'''Insert code here'''"
   ]
  },
  {
   "cell_type": "markdown",
   "metadata": {},
   "source": [
    "## 4. Evaluate the efficacy of the trading strategy."
   ]
  },
  {
   "cell_type": "code",
   "execution_count": null,
   "metadata": {},
   "outputs": [],
   "source": [
    "'''Insert code here'''"
   ]
  },
  {
   "cell_type": "markdown",
   "metadata": {},
   "source": [
    "## 5. Use at least one reinforcement learning algorithm for trading the assets (Q-learning, deep Q-learning)."
   ]
  },
  {
   "cell_type": "code",
   "execution_count": null,
   "metadata": {},
   "outputs": [],
   "source": [
    "'''Insert code here'''"
   ]
  },
  {
   "cell_type": "markdown",
   "metadata": {},
   "source": [
    "## 6. Evaluate the efficacy of the trading strategy."
   ]
  },
  {
   "cell_type": "code",
   "execution_count": null,
   "metadata": {},
   "outputs": [],
   "source": [
    "'''Insert code here'''"
   ]
  },
  {
   "cell_type": "markdown",
   "metadata": {},
   "source": [
    "## 7. Fine-tune your algorithms."
   ]
  },
  {
   "cell_type": "code",
   "execution_count": null,
   "metadata": {},
   "outputs": [],
   "source": [
    "'''Insert code here'''"
   ]
  },
  {
   "cell_type": "markdown",
   "metadata": {},
   "source": [
    "## 8. Compare and interpret the results."
   ]
  },
  {
   "cell_type": "code",
   "execution_count": null,
   "metadata": {},
   "outputs": [],
   "source": [
    "'''Insert code here'''"
   ]
  }
 ],
 "metadata": {
  "colab": {
   "provenance": []
  },
  "hide_input": false,
  "kernelspec": {
   "display_name": "Python 3 (ipykernel)",
   "language": "python",
   "name": "python3"
  },
  "language_info": {
   "codemirror_mode": {
    "name": "ipython",
    "version": 3
   },
   "file_extension": ".py",
   "mimetype": "text/x-python",
   "name": "python",
   "nbconvert_exporter": "python",
   "pygments_lexer": "ipython3",
   "version": "3.11.2"
  },
  "latex_envs": {
   "LaTeX_envs_menu_present": true,
   "autoclose": false,
   "autocomplete": true,
   "bibliofile": "biblio.bib",
   "cite_by": "apalike",
   "current_citInitial": 1,
   "eqLabelWithNumbers": true,
   "eqNumInitial": 1,
   "hotkeys": {
    "equation": "Ctrl-E",
    "itemize": "Ctrl-I"
   },
   "labels_anchors": false,
   "latex_user_defs": false,
   "report_style_numbering": false,
   "user_envs_cfg": false
  },
  "nbTranslate": {
   "displayLangs": [
    "*"
   ],
   "hotkey": "alt-t",
   "langInMainMenu": true,
   "sourceLang": "en",
   "targetLang": "fr",
   "useGoogleTranslate": true
  },
  "toc": {
   "base_numbering": 1,
   "nav_menu": {},
   "number_sections": true,
   "sideBar": true,
   "skip_h1_title": false,
   "title_cell": "Table of Contents",
   "title_sidebar": "Contents",
   "toc_cell": false,
   "toc_position": {},
   "toc_section_display": true,
   "toc_window_display": false
  },
  "varInspector": {
   "cols": {
    "lenName": 16,
    "lenType": 16,
    "lenVar": 40
   },
   "kernels_config": {
    "python": {
     "delete_cmd_postfix": "",
     "delete_cmd_prefix": "del ",
     "library": "var_list.py",
     "varRefreshCmd": "print(var_dic_list())"
    },
    "r": {
     "delete_cmd_postfix": ") ",
     "delete_cmd_prefix": "rm(",
     "library": "var_list.r",
     "varRefreshCmd": "cat(var_dic_list()) "
    }
   },
   "types_to_exclude": [
    "module",
    "function",
    "builtin_function_or_method",
    "instance",
    "_Feature"
   ],
   "window_display": false
  }
 },
 "nbformat": 4,
 "nbformat_minor": 1
}
