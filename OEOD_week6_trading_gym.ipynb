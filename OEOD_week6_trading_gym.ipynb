{
 "cells": [
  {
   "cell_type": "markdown",
   "metadata": {},
   "source": [
    "<font size=\"5\">\n",
    " <div class=\"alert alert-block alert-info\"><b>Master in Data Science - Iscte <b>\n",
    "     </div>\n",
    "</font> \n",
    " \n",
    " \n",
    "     \n",
    "    \n",
    "  <font size=\"5\"> OEOD </font>\n",
    "  \n",
    "  \n",
    "  \n",
    "  <font size=\"3\"> **Diana Aldea Mendes**, October 2023 </font>\n",
    "  \n",
    "   \n",
    "  <font size=\"3\"> *diana.mendes@iscte-iul.pt* </font> \n",
    "  \n",
    "    \n",
    " \n",
    "  \n",
    "    \n",
    "  <font color='blue'><font size=\"5\"> <b>Week 6 - Gym-AnyTrading<b></font></font>"
   ]
  },
  {
   "cell_type": "markdown",
   "metadata": {},
   "source": [
    "\n",
    "#########################################################\n",
    "\n",
    "- More info here: https://github.com/AminHP/gym-anytrading/tree/master \n",
    "- *OpenAI Gym* environments for **reinforcement learning-based trading algorithms**.\n",
    "- Trading algorithms are mostly implemented in two markets: FOREX and Stock.\n",
    "- Three Gym environments: TradingEnv, ForexEnv, and StocksEnv.\n",
    "    - TradingEnv is an abstract environment which is defined to support all kinds of trading environments. \n",
    "    - ForexEnv and StocksEnv are simply two environments that inherit and extend TradingEnv. "
   ]
  },
  {
   "cell_type": "markdown",
   "metadata": {},
   "source": [
    "# Instalation"
   ]
  },
  {
   "cell_type": "code",
   "execution_count": null,
   "metadata": {},
   "outputs": [],
   "source": [
    "#pip install gym-anytrading"
   ]
  },
  {
   "cell_type": "code",
   "execution_count": null,
   "metadata": {
    "ExecuteTime": {
     "end_time": "2023-10-31T17:20:54.290030Z",
     "start_time": "2023-10-31T17:20:54.271029Z"
    }
   },
   "outputs": [],
   "source": [
    "#pip install stable_baselines3"
   ]
  },
  {
   "cell_type": "markdown",
   "metadata": {},
   "source": [
    "## Example 1"
   ]
  },
  {
   "cell_type": "code",
   "execution_count": null,
   "metadata": {
    "ExecuteTime": {
     "end_time": "2023-10-31T17:24:35.814027Z",
     "start_time": "2023-10-31T17:24:35.798027Z"
    }
   },
   "outputs": [],
   "source": [
    "import gymnasium as gym\n",
    "import gym_anytrading\n",
    "import matplotlib.pyplot as plt\n",
    "\n",
    "env = gym.make('forex-v0')\n",
    "# env = gym.make('stocks-v0')"
   ]
  },
  {
   "cell_type": "code",
   "execution_count": null,
   "metadata": {
    "ExecuteTime": {
     "end_time": "2023-10-31T17:25:41.112070Z",
     "start_time": "2023-10-31T17:25:41.097037Z"
    }
   },
   "outputs": [],
   "source": [
    "# create environment with specific parameters\n",
    "# mu = pd.read_csv(\"MU.csv\")\n",
    "from gym_anytrading.datasets import FOREX_EURUSD_1H_ASK, STOCKS_GOOGL\n",
    "\n",
    "custom_env = gym.make('forex-v0',\n",
    "    # df = mu\n",
    "    df=FOREX_EURUSD_1H_ASK,\n",
    "    window_size=10,\n",
    "    frame_bound=(50, 100),\n",
    "    unit_side='right'\n",
    ")"
   ]
  },
  {
   "cell_type": "code",
   "execution_count": null,
   "metadata": {
    "ExecuteTime": {
     "end_time": "2023-10-31T17:25:41.897081Z",
     "start_time": "2023-10-31T17:25:41.862067Z"
    }
   },
   "outputs": [],
   "source": [
    "# print information\n",
    "print(\"env information:\")\n",
    "print(\"> shape:\", env.unwrapped.shape)\n",
    "print(\"> df.shape:\", env.unwrapped.df.shape)\n",
    "print(\"> prices.shape:\", env.unwrapped.prices.shape)\n",
    "print(\"> signal_features.shape:\", env.unwrapped.signal_features.shape)\n",
    "print(\"> max_possible_profit:\", env.unwrapped.max_possible_profit())\n",
    "\n",
    "print()\n",
    "print(\"custom_env information:\")\n",
    "print(\"> shape:\", custom_env.unwrapped.shape)\n",
    "print(\"> df.shape:\", custom_env.unwrapped.df.shape)\n",
    "print(\"> prices.shape:\", custom_env.unwrapped.prices.shape)\n",
    "print(\"> signal_features.shape:\", custom_env.unwrapped.signal_features.shape)\n",
    "print(\"> max_possible_profit:\", custom_env.unwrapped.max_possible_profit())"
   ]
  },
  {
   "cell_type": "code",
   "execution_count": null,
   "metadata": {
    "ExecuteTime": {
     "end_time": "2023-10-31T17:25:44.167076Z",
     "start_time": "2023-10-31T17:25:43.470068Z"
    }
   },
   "outputs": [],
   "source": [
    "## plot environment\n",
    "env.reset()\n",
    "env.render()\n",
    "\n",
    "# Short and Long positions are shown in red and green colors."
   ]
  },
  {
   "cell_type": "code",
   "execution_count": null,
   "metadata": {
    "ExecuteTime": {
     "end_time": "2023-10-31T17:26:44.908095Z",
     "start_time": "2023-10-31T17:26:44.718094Z"
    }
   },
   "outputs": [],
   "source": [
    "### complete example with update rule\n",
    "\n",
    "from gym_anytrading.envs import TradingEnv, ForexEnv, StocksEnv, Actions, Positions \n",
    "from gym_anytrading.datasets import FOREX_EURUSD_1H_ASK, STOCKS_GOOGL\n",
    "\n",
    "\n",
    "env = gym.make('forex-v0', frame_bound=(50, 100), window_size=10)\n",
    "# env = gym.make('stocks-v0', frame_bound=(50, 100), window_size=10)\n",
    "\n",
    "observation = env.reset(seed=2023)\n",
    "while True:\n",
    "    action = env.action_space.sample()\n",
    "    observation, reward, terminated, truncated, info = env.step(action)\n",
    "    done = terminated or truncated\n",
    "\n",
    "    # env.render()\n",
    "    if done:\n",
    "        print(\"info:\", info)\n",
    "        break\n",
    "\n",
    "plt.cla()\n",
    "env.unwrapped.render_all()\n",
    "plt.show()"
   ]
  },
  {
   "cell_type": "code",
   "execution_count": null,
   "metadata": {},
   "outputs": [],
   "source": [
    "# You can use render_all method to avoid rendering on each step and prevent time-wasting.\n",
    "# As you see, the first 10 points (window_size=10) on the plot don't have a position. \n",
    "# Because they aren't involved in calculating reward, profit, etc. \n",
    "# They just display the first observations. So the environment's _start_tick and initial _last_trade_tick are 10 and 9."
   ]
  },
  {
   "cell_type": "markdown",
   "metadata": {},
   "source": [
    "## Example 2"
   ]
  },
  {
   "cell_type": "markdown",
   "metadata": {},
   "source": [
    "### Imports"
   ]
  },
  {
   "cell_type": "code",
   "execution_count": null,
   "metadata": {
    "ExecuteTime": {
     "end_time": "2023-10-31T17:29:50.030154Z",
     "start_time": "2023-10-31T17:29:50.022179Z"
    }
   },
   "outputs": [],
   "source": [
    "#!pip install quantstats"
   ]
  },
  {
   "cell_type": "code",
   "execution_count": null,
   "metadata": {
    "ExecuteTime": {
     "end_time": "2023-10-31T17:29:51.476176Z",
     "start_time": "2023-10-31T17:29:50.607156Z"
    },
    "tags": []
   },
   "outputs": [],
   "source": [
    "import numpy as np\n",
    "import pandas as pd\n",
    "import matplotlib.pyplot as plt\n",
    "\n",
    "import gymnasium as gym\n",
    "import gym_anytrading\n",
    "from gym_anytrading.envs import Actions\n",
    "\n",
    "from stable_baselines3 import A2C\n",
    "\n",
    "import quantstats as qs"
   ]
  },
  {
   "cell_type": "markdown",
   "metadata": {},
   "source": [
    "### Create Env"
   ]
  },
  {
   "cell_type": "code",
   "execution_count": null,
   "metadata": {
    "ExecuteTime": {
     "end_time": "2023-10-31T17:29:52.138708Z",
     "start_time": "2023-10-31T17:29:52.126707Z"
    }
   },
   "outputs": [],
   "source": [
    "df = gym_anytrading.datasets.STOCKS_GOOGL.copy()\n",
    "\n",
    "window_size = 10\n",
    "start_index = window_size\n",
    "end_index = len(df)\n",
    "\n",
    "env = gym.make(\n",
    "    'stocks-v0',\n",
    "    df=df,\n",
    "    window_size=window_size,\n",
    "    frame_bound=(start_index, end_index)\n",
    ")\n",
    "\n",
    "print(\"observation_space:\", env.observation_space)"
   ]
  },
  {
   "cell_type": "markdown",
   "metadata": {},
   "source": [
    "### Train Env"
   ]
  },
  {
   "cell_type": "code",
   "execution_count": null,
   "metadata": {
    "ExecuteTime": {
     "end_time": "2023-10-31T17:29:54.905757Z",
     "start_time": "2023-10-31T17:29:53.334712Z"
    },
    "tags": []
   },
   "outputs": [],
   "source": [
    "env.reset(seed=2023)\n",
    "model = A2C('MlpPolicy', env, verbose=0)\n",
    "model.learn(total_timesteps=1_000)"
   ]
  },
  {
   "cell_type": "markdown",
   "metadata": {},
   "source": [
    "### Test Env"
   ]
  },
  {
   "cell_type": "code",
   "execution_count": null,
   "metadata": {
    "ExecuteTime": {
     "end_time": "2023-10-31T17:29:57.156756Z",
     "start_time": "2023-10-31T17:29:55.982757Z"
    },
    "tags": []
   },
   "outputs": [],
   "source": [
    "action_stats = {Actions.Sell: 0, Actions.Buy: 0}\n",
    "\n",
    "observation, info = env.reset(seed=2023)\n",
    "\n",
    "while True:\n",
    "    # action = env.action_space.sample()\n",
    "    action, _states = model.predict(observation)\n",
    "\n",
    "    action_stats[Actions(action)] += 1\n",
    "    observation, reward, terminated, truncated, info = env.step(action)\n",
    "    done = terminated or truncated\n",
    "\n",
    "    # env.render()\n",
    "    if done:\n",
    "        break\n",
    "\n",
    "env.close()\n",
    "\n",
    "print(\"action_stats:\", action_stats)\n",
    "print(\"info:\", info)"
   ]
  },
  {
   "cell_type": "markdown",
   "metadata": {},
   "source": [
    "### Plot Results"
   ]
  },
  {
   "cell_type": "code",
   "execution_count": null,
   "metadata": {
    "ExecuteTime": {
     "end_time": "2023-10-31T17:29:59.035811Z",
     "start_time": "2023-10-31T17:29:58.830809Z"
    }
   },
   "outputs": [],
   "source": [
    "plt.figure(figsize=(16, 6))\n",
    "env.unwrapped.render_all()\n",
    "plt.show()"
   ]
  },
  {
   "cell_type": "markdown",
   "metadata": {},
   "source": [
    "### Analysis Using `quantstats`"
   ]
  },
  {
   "cell_type": "code",
   "execution_count": null,
   "metadata": {
    "ExecuteTime": {
     "end_time": "2023-10-31T17:30:38.432737Z",
     "start_time": "2023-10-31T17:30:26.103403Z"
    }
   },
   "outputs": [],
   "source": [
    "qs.extend_pandas()\n",
    "\n",
    "net_worth = pd.Series(env.unwrapped.history['total_profit'], index=df.index[start_index+1:end_index])\n",
    "returns = net_worth.pct_change().iloc[1:]\n",
    "\n",
    "qs.reports.full(returns)\n",
    "qs.reports.html(returns, output='SB3_a2c_quantstats.html')"
   ]
  },
  {
   "cell_type": "code",
   "execution_count": null,
   "metadata": {},
   "outputs": [],
   "source": []
  }
 ],
 "metadata": {
  "accelerator": "GPU",
  "colab": {
   "collapsed_sections": [],
   "name": "p3.ipynb",
   "provenance": []
  },
  "hide_input": false,
  "kernelspec": {
   "display_name": "Python 3 (ipykernel)",
   "language": "python",
   "name": "python3"
  },
  "language_info": {
   "codemirror_mode": {
    "name": "ipython",
    "version": 3
   },
   "file_extension": ".py",
   "mimetype": "text/x-python",
   "name": "python",
   "nbconvert_exporter": "python",
   "pygments_lexer": "ipython3",
   "version": "3.11.2"
  },
  "latex_envs": {
   "LaTeX_envs_menu_present": true,
   "autoclose": false,
   "autocomplete": true,
   "bibliofile": "biblio.bib",
   "cite_by": "apalike",
   "current_citInitial": 1,
   "eqLabelWithNumbers": true,
   "eqNumInitial": 1,
   "hotkeys": {
    "equation": "Ctrl-E",
    "itemize": "Ctrl-I"
   },
   "labels_anchors": false,
   "latex_user_defs": false,
   "report_style_numbering": false,
   "user_envs_cfg": false
  },
  "nbTranslate": {
   "displayLangs": [
    "*"
   ],
   "hotkey": "alt-t",
   "langInMainMenu": true,
   "sourceLang": "en",
   "targetLang": "fr",
   "useGoogleTranslate": true
  },
  "toc": {
   "base_numbering": 1,
   "nav_menu": {},
   "number_sections": true,
   "sideBar": true,
   "skip_h1_title": false,
   "title_cell": "Table of Contents",
   "title_sidebar": "Contents",
   "toc_cell": false,
   "toc_position": {},
   "toc_section_display": true,
   "toc_window_display": false
  },
  "varInspector": {
   "cols": {
    "lenName": 16,
    "lenType": 16,
    "lenVar": 40
   },
   "kernels_config": {
    "python": {
     "delete_cmd_postfix": "",
     "delete_cmd_prefix": "del ",
     "library": "var_list.py",
     "varRefreshCmd": "print(var_dic_list())"
    },
    "r": {
     "delete_cmd_postfix": ") ",
     "delete_cmd_prefix": "rm(",
     "library": "var_list.r",
     "varRefreshCmd": "cat(var_dic_list()) "
    }
   },
   "types_to_exclude": [
    "module",
    "function",
    "builtin_function_or_method",
    "instance",
    "_Feature"
   ],
   "window_display": false
  }
 },
 "nbformat": 4,
 "nbformat_minor": 1
}
